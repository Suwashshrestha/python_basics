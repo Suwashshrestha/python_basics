{
 "cells": [
  {
   "cell_type": "markdown",
   "id": "503139e6",
   "metadata": {},
   "source": [
    "# CS50 AI - Dec 22, 2024\n",
    "\n",
    "Instructor: Suwash Shrestha\n",
    "\n",
    "Welcome to CS50 AI \n"
   ]
  },
  {
   "cell_type": "markdown",
   "id": "7c85fe56",
   "metadata": {},
   "source": []
  },
  {
   "cell_type": "markdown",
   "id": "2c97324c",
   "metadata": {},
   "source": [
    "# Introduction to Python for Data Science"
   ]
  },
  {
   "cell_type": "markdown",
   "id": "4134b4b2",
   "metadata": {},
   "source": [
    "\n"
   ]
  },
  {
   "cell_type": "code",
   "execution_count": 1,
   "id": "3c68900e",
   "metadata": {},
   "outputs": [
    {
     "name": "stdout",
     "output_type": "stream",
     "text": [
      "25\n"
     ]
    }
   ],
   "source": [
    "# Integer (int)\n",
    "# Represents whole numbers, e.g., 5, -10.\n",
    "age = 25\n",
    "print(age)  "
   ]
  },
  {
   "cell_type": "markdown",
   "id": "51431bad",
   "metadata": {},
   "source": []
  },
  {
   "cell_type": "code",
   "execution_count": 2,
   "id": "29cc780f",
   "metadata": {},
   "outputs": [
    {
     "name": "stdout",
     "output_type": "stream",
     "text": [
      "36.6\n"
     ]
    }
   ],
   "source": [
    "#Float (float)\n",
    "# Represents numbers with decimals, e.g., 3.14, -0.01.\n",
    "temperature = 36.6\n",
    "print(temperature)"
   ]
  },
  {
   "cell_type": "code",
   "execution_count": 3,
   "id": "3f88fd80",
   "metadata": {},
   "outputs": [
    {
     "name": "stdout",
     "output_type": "stream",
     "text": [
      "Alice\n"
     ]
    }
   ],
   "source": [
    "# String (str)\n",
    "name = \"Alice\"\n",
    "print(name)"
   ]
  },
  {
   "cell_type": "code",
   "execution_count": 4,
   "id": "03b71982",
   "metadata": {},
   "outputs": [
    {
     "name": "stdout",
     "output_type": "stream",
     "text": [
      "True\n"
     ]
    }
   ],
   "source": [
    "# Boolean (bool)\n",
    "is_sunny = True\n",
    "print(is_sunny)"
   ]
  },
  {
   "cell_type": "code",
   "execution_count": 5,
   "id": "6fb2b164",
   "metadata": {},
   "outputs": [
    {
     "name": "stdout",
     "output_type": "stream",
     "text": [
      "I am 25 years old.\n"
     ]
    }
   ],
   "source": [
    "# Integer to string\n",
    "age = 25\n",
    "print(\"I am \" + str(age) + \" years old.\") "
   ]
  },
  {
   "cell_type": "code",
   "execution_count": 6,
   "id": "99a1ac2f",
   "metadata": {},
   "outputs": [
    {
     "name": "stdout",
     "output_type": "stream",
     "text": [
      "15\n"
     ]
    }
   ],
   "source": [
    "# String to integer\n",
    "value = \"10\"\n",
    "print(int(value) + 5)"
   ]
  },
  {
   "cell_type": "code",
   "execution_count": 7,
   "id": "3e69b7af",
   "metadata": {},
   "outputs": [
    {
     "name": "stdout",
     "output_type": "stream",
     "text": [
      "3\n"
     ]
    }
   ],
   "source": [
    "# Float to integer\n",
    "pi = 3.14\n",
    "print(int(pi))"
   ]
  },
  {
   "cell_type": "code",
   "execution_count": 8,
   "id": "192caedb",
   "metadata": {},
   "outputs": [
    {
     "name": "stdout",
     "output_type": "stream",
     "text": [
      "False\n"
     ]
    }
   ],
   "source": [
    "# Integer to Boolean\n",
    "number = 0\n",
    "print(bool(number)) "
   ]
  },
  {
   "cell_type": "markdown",
   "id": "69be75ab",
   "metadata": {},
   "source": [
    "\n",
    "# Loops"
   ]
  },
  {
   "cell_type": "code",
   "execution_count": 9,
   "id": "c5129c22",
   "metadata": {},
   "outputs": [
    {
     "name": "stdout",
     "output_type": "stream",
     "text": [
      "1\n",
      "2\n",
      "3\n",
      "4\n",
      "5\n"
     ]
    }
   ],
   "source": [
    "# For Loops\n",
    "numbers = [1, 2, 3, 4, 5]\n",
    "for number in numbers:\n",
    "    print(number)"
   ]
  },
  {
   "cell_type": "code",
   "execution_count": 10,
   "id": "0b0577c6",
   "metadata": {},
   "outputs": [
    {
     "name": "stdout",
     "output_type": "stream",
     "text": [
      "5\n",
      "4\n",
      "3\n",
      "2\n",
      "1\n"
     ]
    }
   ],
   "source": [
    "# While loops\n",
    "count = 5\n",
    "while count > 0:\n",
    "    print(count)\n",
    "    count -= 1"
   ]
  },
  {
   "cell_type": "code",
   "execution_count": 11,
   "id": "79de6e4b",
   "metadata": {},
   "outputs": [
    {
     "name": "stdout",
     "output_type": "stream",
     "text": [
      "0\n",
      "1\n",
      "2\n",
      "3\n",
      "4\n"
     ]
    }
   ],
   "source": [
    "# Example: Breaking out of a loop\n",
    "for i in range(10):\n",
    "    if i == 5:\n",
    "        break\n",
    "    print(i)"
   ]
  },
  {
   "cell_type": "code",
   "execution_count": 12,
   "id": "7bc661e1",
   "metadata": {},
   "outputs": [
    {
     "name": "stdout",
     "output_type": "stream",
     "text": [
      "0\n",
      "1\n",
      "3\n",
      "4\n"
     ]
    }
   ],
   "source": [
    "# Example: Skipping an iteration\n",
    "for i in range(5):\n",
    "    if i == 2:\n",
    "        continue\n",
    "    print(i)"
   ]
  },
  {
   "cell_type": "markdown",
   "id": "d57c1f8e",
   "metadata": {},
   "source": [
    "Functions"
   ]
  },
  {
   "cell_type": "code",
   "execution_count": 13,
   "id": "9b4e9246",
   "metadata": {},
   "outputs": [],
   "source": [
    "# Example: Function that returns a value\n",
    "def add(a, b):\n",
    "    return a + b"
   ]
  },
  {
   "cell_type": "code",
   "execution_count": 14,
   "id": "673ed623",
   "metadata": {},
   "outputs": [
    {
     "name": "stdout",
     "output_type": "stream",
     "text": [
      "8\n"
     ]
    }
   ],
   "source": [
    "result = add(5, 3)\n",
    "print(result)"
   ]
  },
  {
   "cell_type": "code",
   "execution_count": 15,
   "id": "1f1fc658",
   "metadata": {},
   "outputs": [],
   "source": [
    "def greet(name=\"Guest\"):\n",
    "    print(f\"Hello, {name}!\")\n",
    "         \n"
   ]
  },
  {
   "cell_type": "code",
   "execution_count": 16,
   "id": "59ec5f87",
   "metadata": {},
   "outputs": [
    {
     "name": "stdout",
     "output_type": "stream",
     "text": [
      "Hello, Guest!\n"
     ]
    }
   ],
   "source": [
    "greet() "
   ]
  },
  {
   "cell_type": "code",
   "execution_count": 17,
   "id": "d3618284",
   "metadata": {},
   "outputs": [
    {
     "name": "stdout",
     "output_type": "stream",
     "text": [
      "Hello, Alice!\n"
     ]
    }
   ],
   "source": [
    "greet(\"Alice\")"
   ]
  },
  {
   "cell_type": "markdown",
   "id": "dc232999",
   "metadata": {},
   "source": [
    "# Lets try a code "
   ]
  },
  {
   "cell_type": "code",
   "execution_count": 18,
   "id": "8d854867",
   "metadata": {},
   "outputs": [],
   "source": [
    "import numpy as np\n",
    "import pandas as pd\n"
   ]
  },
  {
   "cell_type": "markdown",
   "id": "75680a1a",
   "metadata": {},
   "source": [
    " Create a small dataset using Numpy\n",
    " \n",
    " Generate random scores for 5 students in 3 subjects (Math, Science, English)"
   ]
  },
  {
   "cell_type": "code",
   "execution_count": 19,
   "id": "1ae719c7",
   "metadata": {},
   "outputs": [],
   "source": [
    "np.random.seed(42)  # For reproducibility\n",
    "num_students = 5\n",
    "subjects = ['Math', 'Science', 'English']\n",
    "scores = np.random.randint(50, 101, size=(num_students, len(subjects)))"
   ]
  },
  {
   "cell_type": "code",
   "execution_count": 20,
   "id": "4b92be0a",
   "metadata": {},
   "outputs": [],
   "source": [
    "# 2. Create a Pandas DataFrame from the Numpy array\n",
    "df = pd.DataFrame(scores, columns=subjects)\n"
   ]
  },
  {
   "cell_type": "code",
   "execution_count": 21,
   "id": "352961ac",
   "metadata": {},
   "outputs": [
    {
     "name": "stdout",
     "output_type": "stream",
     "text": [
      "--- Dataset ---\n",
      "   Math  Science  English    Student    Average Status\n",
      "0    88       78       64  Student_1  76.666667   Pass\n",
      "1    92       57       70  Student_2  73.000000   Pass\n",
      "2    88       68       72  Student_3  76.000000   Pass\n",
      "3    60       60       73  Student_4  64.333333   Pass\n",
      "4    85       89       73  Student_5  82.333333   Pass\n",
      "\n",
      "--- Subject Averages ---\n",
      "Math       82.6\n",
      "Science    70.4\n",
      "English    70.4\n",
      "dtype: float64\n",
      "\n",
      "--- Pass/Fail Counts ---\n",
      "Status\n",
      "Pass    5\n",
      "Name: count, dtype: int64\n"
     ]
    }
   ],
   "source": [
    "# 3. Add additional columns\n",
    "# Adding a column for student names (Student_1, Student_2, ...)\n",
    "df['Student'] = [f'Student_{i+1}' for i in range(num_students)]\n",
    "# Adding a column for the average score\n",
    "df['Average'] = df[subjects].mean(axis=1)\n",
    "# Adding a column to classify students as 'Pass' or 'Fail' based on their average score (>60 is Pass)\n",
    "df['Status'] = np.where(df['Average'] > 60, 'Pass', 'Fail')\n",
    "\n",
    "print(\"--- Dataset ---\")\n",
    "print(df)\n",
    "\n",
    "print(\"\\n--- Subject Averages ---\")\n",
    "print(df[subjects].mean())\n",
    "\n",
    "print(\"\\n--- Pass/Fail Counts ---\")\n",
    "print(df['Status'].value_counts())\n"
   ]
  },
  {
   "cell_type": "code",
   "execution_count": null,
   "id": "91568c81",
   "metadata": {},
   "outputs": [],
   "source": []
  },
  {
   "cell_type": "code",
   "execution_count": null,
   "id": "157246f0",
   "metadata": {},
   "outputs": [],
   "source": []
  },
  {
   "cell_type": "code",
   "execution_count": null,
   "id": "440f1581",
   "metadata": {},
   "outputs": [],
   "source": []
  },
  {
   "cell_type": "code",
   "execution_count": null,
   "id": "77b88f4e",
   "metadata": {},
   "outputs": [],
   "source": []
  }
 ],
 "metadata": {
  "kernelspec": {
   "display_name": "Python 3 (ipykernel)",
   "language": "python",
   "name": "python3"
  },
  "language_info": {
   "codemirror_mode": {
    "name": "ipython",
    "version": 3
   },
   "file_extension": ".py",
   "mimetype": "text/x-python",
   "name": "python",
   "nbconvert_exporter": "python",
   "pygments_lexer": "ipython3",
   "version": "3.10.12"
  }
 },
 "nbformat": 4,
 "nbformat_minor": 5
}
