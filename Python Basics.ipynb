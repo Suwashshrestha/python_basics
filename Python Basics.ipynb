{
 "cells": [
  {
   "cell_type": "markdown",
   "id": "503139e6",
   "metadata": {},
   "source": [
    "## CS50 AI - December 22, 2024\n",
    "# \n",
    "# **Instructor:** Suwash Shrestha\n",
    "# \n",
    "# **Welcome to CS50 AI!**\n",
    "# \n",
    "# This course will introduce you to the fundamentals of artificial intelligence.\n"
   ]
  },
  {
   "cell_type": "markdown",
   "id": "2c97324c",
   "metadata": {},
   "source": [
    "# Introduction to Python for Data Science"
   ]
  },
  {
   "cell_type": "markdown",
   "id": "4134b4b2",
   "metadata": {},
   "source": [
    "Python has emerged as the ideal choice for data science and machine learning for several compelling reasons. \n",
    " \n",
    "First and foremost, Python boasts a simple and readable syntax, which makes it accessible to both beginners and experienced programmers. This ease of use allows data scientists to focus on solving complex problems rather than getting bogged down by intricate programming details.\n",
    " \n",
    "Additionally, Python has a rich ecosystem of libraries and frameworks specifically designed for data analysis and machine learning. Libraries such as NumPy and pandas provide powerful tools for data manipulation and analysis, while frameworks like TensorFlow and scikit-learn offer robust solutions for building and deploying machine learning models. This extensive library support accelerates the development process and enhances productivity.\n",
    " \n",
    "Furthermore, Python's versatility allows it to be used across various domains, from web development to scientific computing. This flexibility means that data scientists can integrate their work with other technologies and platforms seamlessly.\n",
    " \n",
    "The strong community support surrounding Python is another significant advantage. With a vast number of tutorials, forums, and documentation available, practitioners can easily find resources to help them troubleshoot issues or learn new techniques. This collaborative environment fosters innovation and knowledge sharing, which is crucial in the rapidly evolving field of data science.\n",
    " \n",
    "Lastly, Python's compatibility with big data technologies, such as Apache Spark and Hadoop, makes it an excellent choice for handling large datasets. As data continues to grow in volume and complexity, Python's ability to work with these technologies ensures that data scientists can efficiently process and analyze data at scale.\n",
    "\n",
    "In summary, Python's simplicity, extensive libraries, versatility, community support, and compatibility with big data technologies make it the ideal choice for data science and machine learning.\n"
   ]
  },
  {
   "cell_type": "markdown",
   "id": "2af7bcc5",
   "metadata": {},
   "source": [
    "Let's review some topics"
   ]
  },
  {
   "cell_type": "code",
   "execution_count": 1,
   "id": "3c68900e",
   "metadata": {},
   "outputs": [
    {
     "name": "stdout",
     "output_type": "stream",
     "text": [
      "25\n"
     ]
    }
   ],
   "source": [
    "# Integer (int)\n",
    "# Represents whole numbers, e.g., 5, -10.\n",
    "age = 25\n",
    "print(age)\n",
    "\n",
    "# Try here: Uncomment the line below and complete the code to check if age is greater than 18\n",
    "# if age > 18:\n",
    "#     print(\"You are an adult.\")\n",
    "# else:\n",
    "#     print(\"You are a minor.\")"
   ]
  },
  {
   "cell_type": "code",
   "execution_count": 2,
   "id": "29cc780f",
   "metadata": {},
   "outputs": [
    {
     "name": "stdout",
     "output_type": "stream",
     "text": [
      "36.6\n"
     ]
    }
   ],
   "source": [
    "# Float (float)\n",
    "# Represents numbers with decimals, e.g., 3.14, -0.01.\n",
    "temperature = 36.6\n",
    "print(temperature)\n",
    "\n",
    "# Try here: Uncomment the line below and change the value of temperature to see how it affects the output\n",
    "# temperature = 37.5\n",
    "# print(temperature)"
   ]
  },
  {
   "cell_type": "code",
   "execution_count": 3,
   "id": "3f88fd80",
   "metadata": {},
   "outputs": [
    {
     "name": "stdout",
     "output_type": "stream",
     "text": [
      "Alice\n"
     ]
    }
   ],
   "source": [
    "# String (str)\n",
    "name = \"Alice\"\n",
    "print(name)\n",
    "\n",
    "# Try here: Uncomment the line below and change the value of name to see how it affects the output\n",
    "# name = \"Bob\"\n",
    "# print(name)"
   ]
  },
  {
   "cell_type": "code",
   "execution_count": 4,
   "id": "03b71982",
   "metadata": {},
   "outputs": [
    {
     "name": "stdout",
     "output_type": "stream",
     "text": [
      "True\n"
     ]
    }
   ],
   "source": [
    "# Boolean (bool)\n",
    "is_sunny = True\n",
    "print(is_sunny)\n",
    "\n",
    "# Try here: Uncomment the line below and change the value of is_sunny to see how it affects the output\n",
    "# is_sunny = False\n",
    "# print(is_sunny)"
   ]
  },
  {
   "cell_type": "code",
   "execution_count": 5,
   "id": "6fb2b164",
   "metadata": {},
   "outputs": [
    {
     "name": "stdout",
     "output_type": "stream",
     "text": [
      "I am 25 years old.\n"
     ]
    }
   ],
   "source": [
    "# Integer to string\n",
    "age = 25\n",
    "print(\"I am \" + str(age) + \" years old.\") \n",
    "\n",
    "# Try here: Uncomment the line below and change the value of age to see how it affects the output\n",
    "# age = 30\n",
    "# print(\"I am \" + str(age) + \" years old.\")"
   ]
  },
  {
   "cell_type": "code",
   "execution_count": 6,
   "id": "99a1ac2f",
   "metadata": {},
   "outputs": [
    {
     "name": "stdout",
     "output_type": "stream",
     "text": [
      "15\n"
     ]
    }
   ],
   "source": [
    "# String to integer\n",
    "value = \"10\"\n",
    "print(int(value) + 5)\n",
    "\n",
    "# Try here: Uncomment the line below and change the value of 'value' to see how it affects the output\n",
    "# value = \"20\"\n",
    "# print(int(value) + 5)"
   ]
  },
  {
   "cell_type": "code",
   "execution_count": 7,
   "id": "3e69b7af",
   "metadata": {},
   "outputs": [
    {
     "name": "stdout",
     "output_type": "stream",
     "text": [
      "3\n"
     ]
    }
   ],
   "source": [
    "# Float to integer\n",
    "pi = 3.14\n",
    "print(int(pi))\n",
    "\n",
    "# Try here: Uncomment the line below and change the value of pi to see how it affects the output\n",
    "# pi = 2.71\n",
    "# print(int(pi))"
   ]
  },
  {
   "cell_type": "code",
   "execution_count": 8,
   "id": "192caedb",
   "metadata": {},
   "outputs": [
    {
     "name": "stdout",
     "output_type": "stream",
     "text": [
      "False\n"
     ]
    }
   ],
   "source": [
    "# Integer to Boolean\n",
    "number = 0\n",
    "print(bool(number)) \n",
    "\n",
    "# Try here: Uncomment the line below and change the value of number to see how it affects the output\n",
    "# number = 1\n",
    "# print(bool(number))"
   ]
  },
  {
   "cell_type": "markdown",
   "id": "69be75ab",
   "metadata": {},
   "source": [
    "\n",
    "# Loops"
   ]
  },
  {
   "cell_type": "code",
   "execution_count": 9,
   "id": "c5129c22",
   "metadata": {},
   "outputs": [
    {
     "name": "stdout",
     "output_type": "stream",
     "text": [
      "1\n",
      "2\n",
      "3\n",
      "4\n",
      "5\n"
     ]
    }
   ],
   "source": [
    "# For Loops\n",
    "numbers = [1, 2, 3, 4, 5]\n",
    "for number in numbers:\n",
    "    print(number)\n",
    "\n",
    "# Try here: Uncomment the line below and change the values in the 'numbers' list to see how it affects the output\n",
    "# numbers = [6, 7, 8, 9, 10]\n",
    "# for number in numbers:\n",
    "#     print(number)"
   ]
  },
  {
   "cell_type": "code",
   "execution_count": 10,
   "id": "0b0577c6",
   "metadata": {},
   "outputs": [
    {
     "name": "stdout",
     "output_type": "stream",
     "text": [
      "5\n",
      "4\n",
      "3\n",
      "2\n",
      "1\n"
     ]
    }
   ],
   "source": [
    "# While loops\n",
    "count = 5\n",
    "while count > 0:\n",
    "    print(count)\n",
    "    count -= 1\n",
    "\n",
    "# Try here: Uncomment the line below and change the value of 'count' to see how it affects the output\n",
    "# count = 3\n",
    "# while count > 0:\n",
    "#     print(count)\n",
    "#     count -= 1"
   ]
  },
  {
   "cell_type": "code",
   "execution_count": 11,
   "id": "79de6e4b",
   "metadata": {},
   "outputs": [
    {
     "name": "stdout",
     "output_type": "stream",
     "text": [
      "0\n",
      "1\n",
      "2\n",
      "3\n",
      "4\n"
     ]
    }
   ],
   "source": [
    "# Example: Breaking out of a loop\n",
    "for i in range(10):\n",
    "    if i == 5:\n",
    "        break\n",
    "    print(i)\n",
    "\n",
    "# Try here: Uncomment the line below and change the range to see how it affects the output\n",
    "# for i in range(15):\n",
    "#     if i == 10:\n",
    "#         break\n",
    "#     print(i)"
   ]
  },
  {
   "cell_type": "code",
   "execution_count": 12,
   "id": "7bc661e1",
   "metadata": {},
   "outputs": [
    {
     "name": "stdout",
     "output_type": "stream",
     "text": [
      "0\n",
      "1\n",
      "3\n",
      "4\n"
     ]
    }
   ],
   "source": [
    "# Example: Skipping an iteration\n",
    "for i in range(5):\n",
    "    if i == 2:\n",
    "        continue\n",
    "    print(i)\n",
    "\n",
    "# Try here: Uncomment the line below and change the range to see how it affects the output\n",
    "# for i in range(10):\n",
    "#     if i == 4:\n",
    "#         continue\n",
    "#     print(i)"
   ]
  },
  {
   "cell_type": "markdown",
   "id": "d57c1f8e",
   "metadata": {},
   "source": [
    "## Functions"
   ]
  },
  {
   "cell_type": "code",
   "execution_count": 13,
   "id": "9b4e9246",
   "metadata": {},
   "outputs": [],
   "source": [
    "# Example: Function that returns a value\n",
    "def add(a, b):\n",
    "    return a + b\n",
    "\n",
    "# Try here: Uncomment the line below and change the values of 'a' and 'b' to see how it affects the output\n",
    "# result = add(2, 3)\n",
    "# print(result)"
   ]
  },
  {
   "cell_type": "code",
   "execution_count": 14,
   "id": "673ed623",
   "metadata": {},
   "outputs": [
    {
     "name": "stdout",
     "output_type": "stream",
     "text": [
      "8\n"
     ]
    }
   ],
   "source": [
    "result = add(5, 3)\n",
    "print(result)\n",
    "\n",
    "# Try here: Uncomment the line below and change the values of 'a' and 'b' to see how it affects the output\n",
    "# result = add(10, 7)\n",
    "# print(result)"
   ]
  },
  {
   "cell_type": "code",
   "execution_count": 15,
   "id": "1f1fc658",
   "metadata": {},
   "outputs": [],
   "source": [
    "def greet(name=\"Guest\"):\n",
    "    print(f\"Hello, {name}!\")\n",
    "\n",
    "# Try here: Uncomment the line below and change the name to see how it affects the output\n",
    "# greet(\"YourName\")\n"
   ]
  },
  {
   "cell_type": "code",
   "execution_count": 16,
   "id": "59ec5f87",
   "metadata": {},
   "outputs": [
    {
     "name": "stdout",
     "output_type": "stream",
     "text": [
      "Hello, Guest!\n"
     ]
    }
   ],
   "source": [
    "greet() "
   ]
  },
  {
   "cell_type": "code",
   "execution_count": 17,
   "id": "d3618284",
   "metadata": {},
   "outputs": [
    {
     "name": "stdout",
     "output_type": "stream",
     "text": [
      "Hello, Alice!\n"
     ]
    }
   ],
   "source": [
    "greet(\"Alice\")"
   ]
  },
  {
   "cell_type": "markdown",
   "id": "dc232999",
   "metadata": {},
   "source": [
    "# Lets try a code "
   ]
  },
  {
   "cell_type": "markdown",
   "id": "4432fc4e",
   "metadata": {},
   "source": [
    "### This command will install the necessary libraries required for today\n",
    "!pip install numpy pandas\n",
    "!pip install matplotlib\n"
   ]
  },
  {
   "cell_type": "code",
   "execution_count": null,
   "id": "8f3e2520",
   "metadata": {},
   "outputs": [],
   "source": [
    "!pip install numpy pandas\n",
    "!pip install matplotlib"
   ]
  },
  {
   "cell_type": "markdown",
   "id": "b0964dcd",
   "metadata": {},
   "source": [
    "NumPy is a fundamental package for scientific computing in Python. It provides support for arrays, matrices, and a wide range of mathematical functions to operate on these data structures. NumPy is particularly useful for numerical data processing and is often used as the foundation for other libraries.\n",
    "\n",
    "Pandas is a powerful data manipulation and analysis library for Python. It provides data structures like Series and DataFrame, which allow for easy handling of structured data. Pandas is widely used for data analysis tasks, including data cleaning, transformation, and visualization, making it an essential tool for data scientists and analysts.\n"
   ]
  },
  {
   "cell_type": "code",
   "execution_count": 18,
   "id": "8d854867",
   "metadata": {},
   "outputs": [],
   "source": [
    "import numpy as np\n",
    "import pandas as pd\n"
   ]
  },
  {
   "cell_type": "markdown",
   "id": "75680a1a",
   "metadata": {},
   "source": [
    "### Create a small dataset using Numpy\n",
    " \n",
    " Generate random scores for 5 students in 3 subjects (Math, Science, English)"
   ]
  },
  {
   "cell_type": "code",
   "execution_count": 19,
   "id": "1ae719c7",
   "metadata": {},
   "outputs": [],
   "source": [
    "np.random.seed(42)  # For reproducibility\n",
    "num_students = 5\n",
    "subjects = ['Math', 'Science', 'English']\n",
    "scores = np.random.randint(50, 101, size=(num_students, len(subjects)))"
   ]
  },
  {
   "cell_type": "markdown",
   "id": "d5a6882e",
   "metadata": {},
   "source": [
    "### What is Dataframe ?\n",
    "A DataFrame is a two-dimensional, size-mutable, potentially heterogeneous tabular data structure \n",
    "with labeled axes (rows and columns) in the Pandas library. It is similar to a spreadsheet or SQL table, \n",
    "or a dictionary of Series objects. DataFrames are widely used for data manipulation and analysis \n",
    "because they allow for easy handling of missing data, alignment of data, and various operations \n",
    "such as filtering, grouping, and aggregating. Each column in a DataFrame can be of a different data type, \n",
    "making it a versatile tool for data analysis in Python.\n"
   ]
  },
  {
   "cell_type": "code",
   "execution_count": 20,
   "id": "4b92be0a",
   "metadata": {},
   "outputs": [],
   "source": [
    "# 2. Create a Pandas DataFrame from the Numpy array\n",
    "df = pd.DataFrame(scores, columns=subjects)"
   ]
  },
  {
   "cell_type": "code",
   "execution_count": 21,
   "id": "352961ac",
   "metadata": {},
   "outputs": [
    {
     "name": "stdout",
     "output_type": "stream",
     "text": [
      "--- Dataset ---\n",
      "   Math  Science  English    Student    Average Status\n",
      "0    88       78       64  Student_1  76.666667   Pass\n",
      "1    92       57       70  Student_2  73.000000   Pass\n",
      "2    88       68       72  Student_3  76.000000   Pass\n",
      "3    60       60       73  Student_4  64.333333   Pass\n",
      "4    85       89       73  Student_5  82.333333   Pass\n",
      "\n",
      "--- Subject Averages ---\n",
      "Math       82.6\n",
      "Science    70.4\n",
      "English    70.4\n",
      "dtype: float64\n",
      "\n",
      "--- Pass/Fail Counts ---\n",
      "Status\n",
      "Pass    5\n",
      "Name: count, dtype: int64\n"
     ]
    }
   ],
   "source": [
    "# 3. Add additional columns\n",
    "# Adding a column for student names (Student_1, Student_2, ...)\n",
    "df['Student'] = [f'Student_{i+1}' for i in range(num_students)]\n",
    "# Adding a column for the average score\n",
    "df['Average'] = df[subjects].mean(axis=1)\n",
    "# Adding a column to classify students as 'Pass' or 'Fail' based on their average score (>60 is Pass)\n",
    "df['Status'] = np.where(df['Average'] > 60, 'Pass', 'Fail')\n",
    "\n",
    "print(\"--- Dataset ---\")\n",
    "print(df)\n",
    "\n",
    "print(\"\\n--- Subject Averages ---\")\n",
    "print(df[subjects].mean())\n",
    "\n",
    "print(\"\\n--- Pass/Fail Counts ---\")\n",
    "print(df['Status'].value_counts())\n"
   ]
  },
  {
   "cell_type": "code",
   "execution_count": null,
   "id": "91568c81",
   "metadata": {},
   "outputs": [],
   "source": []
  },
  {
   "cell_type": "code",
   "execution_count": null,
   "id": "157246f0",
   "metadata": {},
   "outputs": [],
   "source": []
  },
  {
   "cell_type": "code",
   "execution_count": null,
   "id": "440f1581",
   "metadata": {},
   "outputs": [],
   "source": []
  },
  {
   "cell_type": "code",
   "execution_count": null,
   "id": "77b88f4e",
   "metadata": {},
   "outputs": [],
   "source": []
  }
 ],
 "metadata": {
  "kernelspec": {
   "display_name": "Python 3 (ipykernel)",
   "language": "python",
   "name": "python3"
  },
  "language_info": {
   "codemirror_mode": {
    "name": "ipython",
    "version": 3
   },
   "file_extension": ".py",
   "mimetype": "text/x-python",
   "name": "python",
   "nbconvert_exporter": "python",
   "pygments_lexer": "ipython3",
   "version": "3.10.12"
  }
 },
 "nbformat": 4,
 "nbformat_minor": 5
}
